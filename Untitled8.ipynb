{
  "cells": [
    {
      "cell_type": "code",
      "execution_count": 10,
      "metadata": {
        "colab": {
          "base_uri": "https://localhost:8080/"
        },
        "id": "reuqBpZT4vZa",
        "outputId": "866a6700-bd76-4cd8-b48f-12b2ceee503f"
      },
      "outputs": [
        {
          "name": "stdout",
          "output_type": "stream",
          "text": [
            "水\n",
            "金\n",
            "地\n",
            "火\n",
            "木\n",
            "土\n",
            "天\n",
            "海\n",
            "冥\n",
            "水\n",
            "金\n",
            "地\n",
            "火\n",
            "木\n",
            "土\n",
            "天\n",
            "海\n",
            "冥\n"
          ]
        }
      ],
      "source": [
        "arrays = [\"水\",\"金\",\"地\",\"火\",\"木\",\"土\",\"天\",\"海\",\"冥\"]\n",
        "\n",
        "for array in arrays:\n",
        "\n",
        "    print(array)\n",
        "\n",
        "\n",
        "\n",
        "\n",
        "count = 0\n",
        "\n",
        "while count <= 8:\n",
        "\n",
        "    print(arrays[count])\n",
        "    count += 1\n",
        "\n",
        "\n",
        "\n",
        "\n"
      ]
    }
  ],
  "metadata": {
    "colab": {
      "provenance": []
    },
    "kernelspec": {
      "display_name": "Python 3",
      "name": "python3"
    },
    "language_info": {
      "name": "python"
    }
  },
  "nbformat": 4,
  "nbformat_minor": 0
}
