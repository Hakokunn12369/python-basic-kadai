{
  "cells": [
    {
      "cell_type": "code",
      "execution_count": 4,
      "metadata": {
        "colab": {
          "base_uri": "https://localhost:8080/"
        },
        "id": "ciX_DfNeAooE",
        "outputId": "110f17a8-95a0-4dab-a005-6de650f996d0"
      },
      "outputs": [
        {
          "name": "stdout",
          "output_type": "stream",
          "text": [
            "\t水曜日は晴れです\n",
            "晴れ\n"
          ]
        }
      ],
      "source": [
        "arrays = [\"月曜日は晴れです\", \"火曜日は雨です\", \"\t水曜日は晴れです\", \"木曜日は晴れです\", \"金曜日は曇りです\", \"土曜日は曇りのち雨です\", \"日曜日は雷雨です\", ]\n",
        "\n",
        "print(arrays[2])\n",
        "\n",
        "dictionarys  = {\"mon\": \"晴れ\",\"tue\": \"雨\",\"wed\": \"晴れ\",\"thu\": \"晴れ\",\"fri\": \"曇り\",\"sat\":\"曇りのち雨\",\"sun\": \"雷雨\"}\n",
        "\n",
        "print(dictionarys[\"wed\"])"
      ]
    }
  ],
  "metadata": {
    "colab": {
      "provenance": []
    },
    "kernelspec": {
      "display_name": "Python 3",
      "name": "python3"
    },
    "language_info": {
      "name": "python"
    }
  },
  "nbformat": 4,
  "nbformat_minor": 0
}
