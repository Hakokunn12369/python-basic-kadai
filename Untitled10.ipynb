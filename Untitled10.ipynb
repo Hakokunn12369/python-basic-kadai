{
  "cells": [
    {
      "cell_type": "code",
      "execution_count": 5,
      "metadata": {
        "colab": {
          "base_uri": "https://localhost:8080/"
        },
        "id": "eIMEfg6ut5ZS",
        "outputId": "88b9c6d9-2828-452f-d989-28135260ac21"
      },
      "outputs": [
        {
          "name": "stdout",
          "output_type": "stream",
          "text": [
            "330.0\n"
          ]
        }
      ],
      "source": [
        "def total(price1, price2,):\n",
        "     tax = 1.1\n",
        "     total = (price1 +price2) * tax\n",
        "\n",
        "     print(total)\n",
        "\n",
        "\n",
        "total(100, 200)\n"
      ]
    },
    {
      "cell_type": "code",
      "execution_count": null,
      "metadata": {
        "id": "3xn_sMiru1p9"
      },
      "outputs": [],
      "source": []
    }
  ],
  "metadata": {
    "colab": {
      "provenance": []
    },
    "kernelspec": {
      "display_name": "Python 3",
      "name": "python3"
    },
    "language_info": {
      "name": "python"
    }
  },
  "nbformat": 4,
  "nbformat_minor": 0
}
