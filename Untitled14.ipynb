{
  "cells": [
    {
      "cell_type": "code",
      "execution_count": 2,
      "metadata": {
        "colab": {
          "base_uri": "https://localhost:8080/"
        },
        "id": "696NKI0jlUqh",
        "outputId": "05497d17-2412-4f6c-95e9-5e12509b3009"
      },
      "outputs": [
        {
          "name": "stdout",
          "output_type": "stream",
          "text": [
            "30歳のナイキさんは大人です。\n",
            "50歳のアディダスさんは大人です。\n",
            "19際のプーマさんは大人ではありません。\n"
          ]
        }
      ],
      "source": [
        "class Human:\n",
        "    def __init__(self, name, age):\n",
        "      self.name = name\n",
        "      self.age = age\n",
        "\n",
        "    def check_adult(self):\n",
        "       if self.age >= 20:\n",
        "        print(f\"{self.age}歳の{self.name}さんは大人です。\")\n",
        "       else :\n",
        "        print(f\"{self.age}際の{self.name}さんは大人ではありません。\")\n",
        "\n",
        "\n",
        "person_a = Human(\"ナイキ\", 30)\n",
        "person_b = Human(\"アディダス\", 50)\n",
        "person_c = Human(\"プーマ\", 19)\n",
        "persons = [person_a, person_b, person_c]\n",
        "\n",
        "for person in persons:\n",
        "  person.check_adult()\n",
        "\n",
        "\n",
        "\n",
        "\n"
      ]
    }
  ],
  "metadata": {
    "colab": {
      "provenance": []
    },
    "kernelspec": {
      "display_name": "Python 3",
      "name": "python3"
    },
    "language_info": {
      "name": "python"
    }
  },
  "nbformat": 4,
  "nbformat_minor": 0
}
