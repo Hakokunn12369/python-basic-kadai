{
  "cells": [
    {
      "cell_type": "code",
      "execution_count": 9,
      "metadata": {
        "colab": {
          "base_uri": "https://localhost:8080/"
        },
        "id": "kZDsFmCQ5nm7",
        "outputId": "b6cb2489-51dd-4ae6-eb8d-e2a960521387"
      },
      "outputs": [
        {
          "name": "stdout",
          "output_type": "stream",
          "text": [
            "75.0㎠\n"
          ]
        }
      ],
      "source": [
        "上辺 = 10\n",
        "下辺 = 20\n",
        "高さ = 5\n",
        "面積 = (上辺 + 下辺) * 高さ / 2\n",
        "\n",
        "print(f\"{面積}㎠\")\n"
      ]
    },
    {
      "cell_type": "code",
      "execution_count": null,
      "metadata": {
        "id": "OSpDFGDN6sAH"
      },
      "outputs": [],
      "source": []
    }
  ],
  "metadata": {
    "colab": {
      "provenance": []
    },
    "kernelspec": {
      "display_name": "Python 3",
      "name": "python3"
    },
    "language_info": {
      "name": "python"
    }
  },
  "nbformat": 4,
  "nbformat_minor": 0
}
