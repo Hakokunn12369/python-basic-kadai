{
  "cells": [
    {
      "cell_type": "code",
      "execution_count": 6,
      "metadata": {
        "colab": {
          "base_uri": "https://localhost:8080/"
        },
        "id": "N-eOWj0qRC5d",
        "outputId": "3513d0e2-f5c2-4ebf-d14d-50e1bbeadbe6"
      },
      "outputs": [
        {
          "name": "stdout",
          "output_type": "stream",
          "text": [
            "330.0\n"
          ]
        }
      ],
      "source": [
        "price1 = 100\n",
        "price2 = 200\n",
        "\n",
        "def total():\n",
        "    tax = 1.1\n",
        "    total_price = price1 + price2\n",
        "    print (total_price * tax)\n",
        "\n",
        "total()\n",
        "\n",
        "\n"
      ]
    },
    {
      "cell_type": "code",
      "execution_count": null,
      "metadata": {
        "id": "3xn_sMiru1p9"
      },
      "outputs": [],
      "source": []
    }
  ],
  "metadata": {
    "colab": {
      "provenance": []
    },
    "kernelspec": {
      "display_name": "Python 3",
      "name": "python3"
    },
    "language_info": {
      "name": "python"
    }
  },
  "nbformat": 4,
  "nbformat_minor": 0
}
