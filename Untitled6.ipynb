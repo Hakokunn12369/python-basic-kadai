{
  "cells": [
    {
      "cell_type": "code",
      "execution_count": 61,
      "metadata": {
        "colab": {
          "base_uri": "https://localhost:8080/"
        },
        "id": "aBom827corCF",
        "outputId": "f0eee90a-6b78-47e4-8220-e05625a2772b"
      },
      "outputs": [
        {
          "name": "stdout",
          "output_type": "stream",
          "text": [
            "96\n",
            "Fizz\n"
          ]
        }
      ],
      "source": [
        "\n",
        "import random\n",
        "\n",
        "var = random.randint(0,100)\n",
        "\n",
        "print(var)\n",
        "\n",
        "if var %3 == 0 and var %5 == 0:\n",
        "    print(\"FizzBuzz\")\n",
        "\n",
        "\n",
        "elif var %5 == 0:\n",
        "    print(\"Buzz\")\n",
        "\n",
        "elif var %3 == 0:\n",
        "    print(\"Fizz\")\n",
        "\n",
        "\n",
        "else:\n",
        "    print(\"var\")\n"
      ]
    }
  ],
  "metadata": {
    "colab": {
      "provenance": []
    },
    "kernelspec": {
      "display_name": "Python 3",
      "name": "python3"
    },
    "language_info": {
      "name": "python"
    }
  },
  "nbformat": 4,
  "nbformat_minor": 0
}
