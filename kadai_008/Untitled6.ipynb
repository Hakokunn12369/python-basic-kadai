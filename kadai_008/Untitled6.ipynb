{
  "cells": [
    {
      "cell_type": "code",
      "execution_count": 60,
      "metadata": {
        "colab": {
          "base_uri": "https://localhost:8080/"
        },
        "id": "aBom827corCF",
        "outputId": "544f20b2-455a-462f-9a3e-874aadf29cee"
      },
      "outputs": [
        {
          "name": "stdout",
          "output_type": "stream",
          "text": [
            "15\n",
            "Fizz\n"
          ]
        }
      ],
      "source": [
        "\n",
        "import random\n",
        "\n",
        "var = random.randint(0,100)\n",
        "\n",
        "print(var)\n",
        "\n",
        "if var %3 == 0:\n",
        "    print(\"Fizz\")\n",
        "\n",
        "elif var %5 == 0:\n",
        "    print(\"Buzz\")\n",
        "\n",
        "elif var %3 == 0 and var %5 == 0:\n",
        "    print(\"FizzBuzz\")\n",
        "\n",
        "else:\n",
        "    print(\"var\")\n"
      ]
    }
  ],
  "metadata": {
    "colab": {
      "provenance": []
    },
    "kernelspec": {
      "display_name": "Python 3",
      "name": "python3"
    },
    "language_info": {
      "name": "python"
    }
  },
  "nbformat": 4,
  "nbformat_minor": 0
}
