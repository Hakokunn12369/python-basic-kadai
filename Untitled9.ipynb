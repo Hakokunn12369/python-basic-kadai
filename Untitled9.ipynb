{
  "cells": [
    {
      "cell_type": "code",
      "execution_count": 5,
      "metadata": {
        "colab": {
          "base_uri": "https://localhost:8080/"
        },
        "id": "S0d0SUhdGBH7",
        "outputId": "5352fd9f-104a-4eff-8739-389f3ef8c6db"
      },
      "outputs": [
        {
          "name": "stdout",
          "output_type": "stream",
          "text": [
            "110.0\n"
          ]
        }
      ],
      "source": [
        "def tax_calculate(yen):\n",
        "    tax = yen * 0.1\n",
        "    total = yen + tax\n",
        "\n",
        "    print(total)\n",
        "\n",
        "tax_calculate(100)"
      ]
    }
  ],
  "metadata": {
    "colab": {
      "provenance": []
    },
    "kernelspec": {
      "display_name": "Python 3",
      "name": "python3"
    },
    "language_info": {
      "name": "python"
    }
  },
  "nbformat": 4,
  "nbformat_minor": 0
}
